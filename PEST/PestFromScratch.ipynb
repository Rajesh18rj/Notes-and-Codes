{
 "cells": [
  {
   "cell_type": "markdown",
   "metadata": {
    "vscode": {
     "languageId": "makefile"
    }
   },
   "source": [
    "# 1) **  Installation and Setup **\n",
    "\n",
    "- Clone the git repository\n",
    "\n",
    "- Install pest\n",
    "\n",
    "- Unit->Example.Test --> inside of this code , php test unit la iruka code ah  Pest form ku maatha porom"
   ]
  },
  {
   "cell_type": "markdown",
   "metadata": {
    "vscode": {
     "languageId": "wat"
    }
   },
   "source": [
    "# 2) ** LifeCycle Hooks **\n",
    "\n",
    " [Overview of Pest Hooks]\n",
    "\n",
    "- beforeEach(): Runs before each individual test.\n",
    "- afterEach(): Runs after each individual test.\n",
    "- beforeAll(): Runs once before all tests in a test suite.\n",
    "- afterAll(): Runs once after all tests in a test suite.\n",
    "\n",
    "* In software testing, we also need to prepare everything before we run the tests and clean up everything after the tests are done.\n",
    "\n",
    "* Testing hooks are like the instructions that say, \"Hey, do this before you start testing\" and \"Do this after you're done testing.\"\n",
    "\n",
    "* This helps save time and makes testing easier. You don’t have to worry about always setting things up or cleaning things up yourself because the computer does it for you automatically.\n",
    "(Just like baking cookies, you don't want to have to prepare everything manually every time, and you don’t want to have to clean up your mess by yourself. \n",
    "Testing hooks make everything automatic — you only need to focus on your actual tests, and the hooks handle the boring stuff for you.)\n",
    "\n",
    "\n",
    "ithula Mukkiyama entha Hook ah epo use pannanum nu therinjukanum..\n",
    "beforeAll and afterAll Hooks, dont have access to any laravel features..\n",
    "\n",
    "> then we are using beforeEach hooks and afterEach hooks"
   ]
  },
  {
   "cell_type": "markdown",
   "metadata": {
    "vscode": {
     "languageId": "plaintext"
    }
   },
   "source": [
    "# 3) ** Expect Api **\n",
    "\n",
    "we are going to test the contacts\n",
    "\n",
    "-> Feature-> Contacts -> StoreTest(Create this test)\n",
    "\n",
    "intha test la Expect api use pannirukom\n",
    "    \n",
    "```php\n",
    "    <?php\n",
    "    ...\n",
    "    expect($contact->first_name)->toBeString()->not->toBeEmpty();  #there is no notToBeEmpty , that's why we are using like this.. before the \n",
    "    expect($contact->last_name)->toBeString()->not->toBeEmpty();\n",
    "    expect($contact->email)->toBeString()->toContain('@');\n",
    "    expect($contact->phone)->toBeString()->toStartWith('+');\n",
    "    expect($contact->city)->toBe('TesterField');\n",
    "    expect($contact->region)->toBe('DerbyShire');\n",
    "    expect($contact->country)->toBeIn(['us', 'ca']);"
   ]
  },
  {
   "cell_type": "markdown",
   "metadata": {
    "vscode": {
     "languageId": "php"
    }
   },
   "source": [
    "# 4)  ** Faker **\n",
    "\n",
    "[Refactoring Code]\n",
    "\n",
    "we are going to see about faker() method\n",
    "\n",
    "```php\n",
    "<?php\n",
    "\n",
    "** Example **\n",
    " $this->post('/contacts', [\n",
    "        'first_name' =>  $faker->firstName(),\n",
    "        'last_name' => $faker->lastName(),\n",
    "        'email' =>$faker->email(),\n",
    "        'phone' =>$faker->e164PhoneNumber(),\n",
    "        'address' => '1 Test Street',\n",
    "        'city' => 'TesterField',\n",
    "        'region' => 'DerbyShire',\n",
    "        'country' =>$faker->randomElement(['us', 'ca']),\n",
    "        'postal_code' =>$faker->postcode(),\n",
    "  ....\n",
    "  //use this\n",
    "use Faker\\Factory as Faker;\n",
    "\n",
    "$faker = Faker::create();   #(this should be in inside of the test)"
   ]
  },
  {
   "cell_type": "markdown",
   "metadata": {},
   "source": [
    "- Why we using faker() function instead of fake() global function , becoz we can use that faker() function in php unit test too.. \n",
    "this faker function customizly created for testing , thats why we are using faker function\n",
    "\n",
    "antha phone number innum konjam strong aakalam.. \n",
    "\n",
    "expect($contact->phone)->toBePhoneNumber();\n",
    "\n",
    "intha mari kudutha error varum.. becoz apdi  oru api method ey illa.. \n",
    "\n",
    "so namma atha create pannuvom\n",
    "\n",
    "- Pest.php  -> epdi function ku oru place irunthucho athey mari expectations yeluthavum thaniya place irukum\n",
    "\n",
    "```php\n",
    "    <?php\n",
    "\n",
    "    // Expectations\n",
    "    expect()->extend('toBePhoneNumber', function(){\n",
    "        expect($this->value)->toBeString()->toStartWith('+');\n",
    "\n",
    "        if (strlen($this->value) < 6){\n",
    "            throw new ExpectationFailedException('Phone numbers must be at least 6 characters');\n",
    "        }\n",
    "\n",
    "        if (! is_numeric(Str::of($this->value)->after('+')->remove([' ',-''])->__toString())) {\n",
    "            throw new ExpectationFailedException('phone numbers must be numeric');\n",
    "        }\n",
    "\n",
    "    });\n",
    "//import these things -> \n",
    "use PHPUnit\\Framework\\ExpectationFailedException;\n",
    "use Illuminate\\Support\\Str;"
   ]
  },
  {
   "cell_type": "markdown",
   "metadata": {
    "vscode": {
     "languageId": "php"
    }
   },
   "source": [
    "```php\n",
    "<?php\n",
    "\n",
    "//if you encounter error\n",
    "\n",
    "// use this ->\n",
    "    $number = preg_replace('/[^\\d]/', '', substr($this->value, 1));\n",
    "    if (!is_numeric($number)) {\n",
    "        throw new ExpectationFailedException('Phone numbers must be numeric');\n",
    "    }\n",
    "\n",
    "\n",
    "//instead of this ->\n",
    " \t  if (! is_numeric(Str::of($this->value)->after('+')->remove([' ',-''])->__toString())) {\n",
    "        throw new ExpectationFailedException('phone numbers must be numeric');\n",
    "    }\n",
    "    ..."
   ]
  },
  {
   "cell_type": "markdown",
   "metadata": {
    "vscode": {
     "languageId": "php"
    }
   },
   "source": [
    "\n",
    "** THIS IS COSTUM EXPECTATION **\n",
    "```php\n",
    "<?php \n",
    "\n",
    "// instead of write like this !\n",
    "  expect($contact->first_name)->toBeString()->not->toBeEmpty();\n",
    "    expect($contact->last_name)->toBeString()->not->toBeEmpty();\n",
    "    expect($contact->email)->toBeString()->toContain('@');\n",
    "    expect($contact->phone)->toBePhoneNumber();             # i write this in Pest.php\n",
    "    expect($contact->city)->toBe('TesterField');\n",
    "    expect($contact->region)->toBe('DerbyShire');\n",
    "    expect($contact->country)->toBeIn(['us', 'ca']);\n",
    "\n",
    "// we can simplify.. \n",
    "\n",
    "\n",
    "    expect($contact)\n",
    "        ->first_name->toBeString()->not->toBeEmpty()\n",
    "        ->last_name->toBeString()->not->toBeEmpty()\n",
    "        ->email->toBeString()->toContain('@')\n",
    "        ->phone->toBePhoneNumber()\n",
    "        ->city->toBe('TesterField')\n",
    "        ->region->toBe('DerbyShire')\n",
    "        ->country->toBeIn(['us', 'ca']);\n",
    "\n",
    "//for more about learning expectations .. https://pestphp.com/docs/expectations"
   ]
  },
  {
   "cell_type": "markdown",
   "metadata": {},
   "source": [
    "\n",
    "# 5) ** DataSets **\n",
    "\n",
    "Imagine a situation .. one of our costumers solranga , nalla use aagitu iruntha email address thidernu work aagama poiruchu namma website la apdinu.. \n",
    "\n",
    "we need to fix this.. \n",
    "\n",
    "we are going to now test the email address\n",
    "\n",
    "ella time um namma email address ah change pannitey iruka koodathu code la,\n",
    "(duplictaions la remove pannanum)\n",
    "\n",
    "then how can we test different emails??\n",
    "\n",
    "ipo namaku \n",
    "```php\n",
    "<?php\n",
    "'email' => $email ;\n",
    "?>\n",
    "```\n",
    "then intha email variable(value) ah parameter ah test functionla pass panni use panra mari iruntha (dynamic ah) nalla irukum la .. \n",
    "athuku than \n",
    "\n",
    "- Datasets\n",
    "\n",
    "    In Pest, datasets send data to the test function through arguments\n",
    "\n",
    "end of the test using \"->with()\" chain method \n",
    "we can pass within array\n",
    "\n",
    "intha array la enaku so many emails ah pass pannanum nu nenaikiren so,\n",
    "\n",
    "```php\n",
    "<?php\n",
    "->with([\n",
    "        [fake()->email()],\n",
    "        ['luke.downing@downing.tech']\n",
    "]);"
   ]
  },
  {
   "cell_type": "markdown",
   "metadata": {},
   "source": [
    "Run this test .. it works \n",
    "\n",
    "terminal la note panna we have two tests, then description dynamic ah change aagirukum \n",
    "\n",
    "   PASS  Tests\\Feature\\Contacts\\StoreTest\n",
    "\n",
    "  ✓ it can store a contact with ('fjohnston@gmail.com')                                                                                                        0.63s  \n",
    "  ✓ it can store a contact with ('luke.downing@downing.tech')      \n",
    "intha maari.. \n",
    "\n",
    "ipo dataset enna panlam nu pathom... (email address)\n",
    "\n",
    "        then ipo namaku multiple pieces of data va pass pannanum naa enna panrathu..?\n",
    "\n",
    "yeah namme multiple dataset parameters ah pass panlam.. \n",
    "\n",
    "test function kulla , Parameter la $email , pakkathula $firstName yum serthu pass panna porom. \n",
    "then ,\n",
    "```php\n",
    "<?php\n",
    "...\n",
    "->with([\n",
    "        [fake()->email(), 'Steve'],\n",
    "        ['luke.downing@downing.tech', 'Rogers'],\n",
    "        ['stranger@rj.com', 'Rajesh']\n",
    "]);"
   ]
  },
  {
   "cell_type": "markdown",
   "metadata": {},
   "source": [
    "see the output\n",
    "\n",
    "intha mari multiple datasets ah pass panlam.. \n",
    "then mail nd name test pass aagum pothu kaaata venam , athuku bathila vera namaku require yethuvo (like in sentence) antha mari katanum nu nenacha\n",
    "atha oru key value pair la kudukalam intha mari !\n",
    "\n",
    "```php\n",
    "<?php\n",
    "...\n",
    "->with([\n",
    "'email for steve' => ['herosare@alive.com', 'firstName'=>'John'],\n",
    "'email for Rogers' => ['luke.downing@downing.tech', 'firstName'=> 'Steve'],\n",
    "'email for Rajesh' =>['stranger@rj.com', 'firstName'=> 'Rajesh'],"
   ]
  },
  {
   "cell_type": "markdown",
   "metadata": {},
   "source": [
    "so namku ipo intha mari ! output kedaikum\n",
    "\n",
    "   PASS  Tests\\Feature\\Contacts\\StoreTest\n",
    "   \n",
    "  ✓ it can store a contact with dataset \"email for steve\"                                                                                 0.64s  \n",
    "  ✓ it can store a contact with dataset \"email for Rogers\"                                                                                0.03s  \n",
    "  ✓ it can store a contact with dataset \"email for Rajesh\" \n",
    "\n",
    "then innonu ennanaa nammalala dataset ah reuse pannika mudiyum.. multiple test ku.. ovoru test laiyum copy paste panrthuku bathila..\n",
    "\n",
    "that is \n",
    "# \"Shared data Set\"\n",
    "\n",
    ">php artisan pest:dataset Emails \n",
    "\n",
    "(if this command is not working use these\n",
    "\n",
    ">composer remove pestphp/pest --dev\n",
    ">composer remove pestphp/pest-plugin-laravel --dev\n",
    ">composer require pestphp/pest --dev\n",
    ">composer require pestphp/pest-plugin-laravel --dev\n",
    ")\n",
    "tests->Datasets->Emails.php\n",
    "\n",
    "```php\n",
    "<?php\n",
    "\n",
    "dataset('valid emails', function () {\n",
    "    return [\n",
    "        'herosare@alive.com',\n",
    "        'luke.downing@downing.tech',\n",
    "        'stranger@rj.com'\n",
    "    ];\n",
    "});\n",
    "<?\n",
    "```\n",
    "this valid emails key we are using in inside of the with (->with('valid emails');) \n",
    "Now run the test , it works .. \n",
    "(Pending Multiple keys passing and testing)"
   ]
  },
  {
   "cell_type": "markdown",
   "metadata": {},
   "source": [
    "# 6) ** \n",
    "\n",
    "one more dataset is here .. combined data set\n",
    "\n",
    "pingcrm open panna anga profile pakkathula oru photo irukum.. atha click panna..\n",
    "url la w=60 h=60 antha mari irukum.. \n",
    "namma itha edit pic size change aagum (dynamic ah)\n",
    "itha thaan test panna porom.. \n",
    "\n",
    "--ShowTest.php--    (ithuku munnadi fixtures ndra folder la 3 images add pannikalam, atha than test panna porom)\n",
    "\n",
    "```php\n",
    "<?php\n",
    "\n",
    "use Illuminate\\Support\\Facades\\Storage;\n",
    "\n",
    "it('can show supported image formats and options', function ($path, $options) {\n",
    "    Storage::fake()->put($path, file_get_contents(__DIR__ . \"/../../fixtures/{$path}\"));\n",
    "\n",
    "    $response = $this->get(route(s'image', ['path' => $path, ...$options]));\n",
    "    $response->assertOk();\n",
    "\n",
    "    expect($response->streamedContent())->not->toBeEmpty()->toBeString();\n",
    "})->with([\n",
    "    ['path'=>'example.png',['w'=>40, 'h'=>40, 'fit'=>'crop']],\n",
    "    ['path'=>'example.jng',['w'=>40, 'h'=>40, 'fit'=>'crop']],\n",
    "    ['path'=>'example.webp',['w'=>40, 'h'=>40, 'fit'=>'crop']],\n",
    "    ['path'=>'example.png',['w'=>50, 'h'=>50, 'fit'=>'crop']],\n",
    "    ['path'=>'example.jpg',['w'=>50, 'h'=>50, 'fit'=>'crop']],\n",
    "    ['path'=>'example.webp',['w'=>50, 'h'=>50, 'fit'=>'crop']],\n",
    "    \n",
    "]);"
   ]
  },
  {
   "cell_type": "markdown",
   "metadata": {},
   "source": [
    "- Innum intha mari yeluthitey pogalam (dataset ku).. Becoz 3 images ku nd width and height ku yegapatta possibilities iruku.. yellamey namma yeluthitey iruka mudiyathu\n",
    "then unreadable aavum maridum intha dataset.."
   ]
  }
 ],
 "metadata": {
  "language_info": {
   "name": "python"
  }
 },
 "nbformat": 4,
 "nbformat_minor": 2
}
