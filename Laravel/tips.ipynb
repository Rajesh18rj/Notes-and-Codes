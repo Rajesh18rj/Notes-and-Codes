{
 "cells": [
  {
   "cell_type": "markdown",
   "metadata": {},
   "source": [
    "```php\n",
    "(Request $request)\n",
    "\n",
    "\t$request->validate()\n",
    "```\n",
    "\n",
    "> The Request class represents the HTTP request.\n",
    "\n",
    "> You use $request to access data from the request (form fields, query parameters, etc.).\n",
    "\n",
    "> The validate() method validates the data before using it in your application."
   ]
  },
  {
   "cell_type": "markdown",
   "metadata": {},
   "source": [
    "Think of guards as different \"ways\" to check if someone is allowed into a house.\n",
    "\n",
    "```php\n",
    "auth()->login() \n",
    "```\n",
    "\n",
    "is like a basic key that lets you into the house, and this works if there’s only one type of key for everyone. So, if you’re just logging in a regular user, you can just use this simple key.\n",
    "\n",
    "```php\n",
    "auth()->guard()->login() \n",
    "```\n",
    "\n",
    "is like having different types of keys for different people. Maybe one key is for admins, another for regular users, and another for people with special tokens (like API users). If you have these different types of keys, you need to say which one you want to use. So, if you're an admin, you'd use the admin key; if you're a regular user, you'd use the regular key. You choose the right one with guard().\n",
    "\n",
    "In short:\n",
    "\n",
    "auth()->login() = one key for everyone.\n",
    "auth()->guard()->login() = choosing the right key when there are different kinds of keys."
   ]
  },
  {
   "cell_type": "markdown",
   "metadata": {},
   "source": [
    "intha auth()->login maari innum sila methods iruku auth function kulla \n",
    "\n",
    "auth()->guard()\n",
    "    Ippo nammakitta multiple type of users irukanganu vachupom.. (web, api)  Intha method use panni ovoruthangalaiyum thani thaniya different ah handle panlam.. \n",
    "\n",
    "    ```php\n",
    "        auth()->guard('web'); // Use the main \"web\" door\n",
    "        auth()->guard('api'); // Use the \"API\" door\n",
    "    ```    \n",
    "\n",
    "auth()->logout()\n",
    "    You use it when someone clicks \"Log Out\" to make sure they can’t access protected parts of the site anymore.(same like login method)\n",
    "\n",
    "auth()->validate()\n",
    "    \n",
    "auth()->attempt()\n",
    "auth()->once()\n",
    "auth()->id()\n",
    "auth()->check()\n",
    "auth()->guest()\n",
    "    You use it to show things only for visitors who aren’t logged in.\n",
    "\n",
    "    ```php\n",
    "        if (auth()->guest()) {\n",
    "            echo \"Welcome, guest! Please log in.\";\n",
    "        }\n",
    "    ```\n",
    "\n",
    "\n"
   ]
  }
 ],
 "metadata": {
  "language_info": {
   "name": "python"
  }
 },
 "nbformat": 4,
 "nbformat_minor": 2
}
