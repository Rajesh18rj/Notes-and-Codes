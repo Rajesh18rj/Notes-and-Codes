{
 "cells": [
  {
   "cell_type": "markdown",
   "metadata": {},
   "source": [
    "# 1)  What is XML ? \n",
    "\n",
    "XML Stands for eXtensible Markup Language, and it helps you organize data in a simple way.\n",
    "    (It's a way to store and organize data in a format that both humans and computers can understand.)\n",
    "\n",
    "  Basic Structure:\n",
    "       > XML uses tags to store information.\n",
    "       > Tags are like labels for different parts of your data."
   ]
  },
  {
   "cell_type": "code",
   "execution_count": null,
   "metadata": {
    "vscode": {
     "languageId": "xml"
    }
   },
   "outputs": [],
   "source": [
    "    <name>John</name>\n",
    "    <age>10</age>"
   ]
  },
  {
   "cell_type": "markdown",
   "metadata": {},
   "source": [
    "# 2) Difference Between Xml and Html\n",
    "\n",
    "| Feature            | XML                                         | HTML                                     |\n",
    "|--------------------|---------------------------------------------|------------------------------------------|\n",
    "| **Purpose**        | Storing and transporting data               | Displaying content on websites           |\n",
    "| **Tags**           | Custom tags (you define them)               | Predefined tags (like `<h1>`, `<p>`)     |\n",
    "| **Rules**          | Strict (tags must be closed)                | Flexible (some tags don’t need closing)  |\n",
    "| **Self-Describing**| Yes, data is described with tags            | No, HTML is for display, not description |\n",
    "| **Usage**          | Data storage and transport                  | Webpage display                          |\n",
    "\n",
    "In Short:\n",
    ">XML is for organizing data.\n",
    ">HTML is for displaying content."
   ]
  },
  {
   "cell_type": "markdown",
   "metadata": {},
   "source": [
    "# 3) Creating Tags\n",
    "\n",
    "        Nama Data va Organize panni vaikurathuku , namma entha name la tag venumoo, antha name la create pannikalam. "
   ]
  },
  {
   "cell_type": "code",
   "execution_count": null,
   "metadata": {
    "vscode": {
     "languageId": "xml"
    }
   },
   "outputs": [],
   "source": [
    "<book>Harry Potter</book>"
   ]
  },
  {
   "cell_type": "code",
   "execution_count": null,
   "metadata": {
    "vscode": {
     "languageId": "xml"
    }
   },
   "outputs": [],
   "source": [
    "Example:\n",
    "<person>\n",
    "    <name>John</name>\n",
    "    <age>10</age>\n",
    "</person>    "
   ]
  },
  {
   "cell_type": "markdown",
   "metadata": {},
   "source": [
    "# 4) Attributes in Tags\n",
    "    Attributes are extra pieces of information you can add to tags, like extra details. They go inside the opening tag.\n",
    "        Namakku thevapatta attributes kooda add pannikalam, html la panra mathiri"
   ]
  },
  {
   "cell_type": "code",
   "execution_count": null,
   "metadata": {
    "vscode": {
     "languageId": "xml"
    }
   },
   "outputs": [],
   "source": [
    "<book genre=\"Fantasy\">Harry Potter</book>"
   ]
  },
  {
   "cell_type": "markdown",
   "metadata": {},
   "source": [
    "# 5) Nested Tags\n",
    "\n",
    "    Tag kulla Innoru Tag Kuduthukalam"
   ]
  },
  {
   "cell_type": "code",
   "execution_count": null,
   "metadata": {
    "vscode": {
     "languageId": "xml"
    }
   },
   "outputs": [],
   "source": [
    "<person>\n",
    "    <name>John</name>\n",
    "    <address>\n",
    "        <city>Tiruppur</city>\n",
    "        <state>TamilNadu</state>\n",
    "        <country>India</country>\n",
    "    </address>       \n",
    "</person>"
   ]
  },
  {
   "cell_type": "markdown",
   "metadata": {},
   "source": [
    "Inga patha address ndra Tag city , state , country ndra 3 tags ah hold panni vachurukku.. This is how you can organize your data into bigger groups"
   ]
  },
  {
   "cell_type": "markdown",
   "metadata": {},
   "source": [
    "# 6) Comments in Xml \n",
    "    You can add comments to explain your code . (This comments do noting, Only for read)"
   ]
  },
  {
   "cell_type": "code",
   "execution_count": null,
   "metadata": {
    "vscode": {
     "languageId": "xml"
    }
   },
   "outputs": [],
   "source": [
    "<!--This is my Name-->\n",
    "<name>Rajesh</name>"
   ]
  },
  {
   "cell_type": "markdown",
   "metadata": {},
   "source": [
    "# 7) Xml Declaration\n",
    "\n",
    "    At the very start of an XML document, you can add a declaration. It tells the computer what version of XML you're using. It’s not always needed, but it’s good practice:"
   ]
  },
  {
   "cell_type": "code",
   "execution_count": null,
   "metadata": {
    "vscode": {
     "languageId": "xml"
    }
   },
   "outputs": [],
   "source": [
    "<?xml version=\"1.0\" encoding=\"UTF-8\"?>"
   ]
  },
  {
   "cell_type": "markdown",
   "metadata": {},
   "source": [
    "# 8) Well-formed Xml\n",
    "\n",
    "    For XML to work properly, it must be well-formed, meaning:\n",
    "\n",
    "        > Every tag must have an opening and closing part.\n",
    "        > Tags must be in the right order.\n",
    "        > No missing or mismatched tags."
   ]
  },
  {
   "cell_type": "code",
   "execution_count": null,
   "metadata": {
    "vscode": {
     "languageId": "xml"
    }
   },
   "outputs": [],
   "source": [
    "<!--Example of well formed Xml-->\n",
    "<book>\n",
    "  <title>Harry Potter</title>\n",
    "  <author>J.K. Rowling</author>\n",
    "</book>"
   ]
  },
  {
   "cell_type": "markdown",
   "metadata": {},
   "source": [
    "# 9) Xml Validation \n",
    "\n",
    "    Sometimes you want to make sure your XML is correct. We use a 'schema' or 'DTD' to check if the XML follows the rules."
   ]
  },
  {
   "cell_type": "code",
   "execution_count": null,
   "metadata": {
    "vscode": {
     "languageId": "xml"
    }
   },
   "outputs": [],
   "source": [
    "<!--Example of Schema:-->\n",
    "<!DOCTYPE book SYSTEM \"book.dtd\">"
   ]
  },
  {
   "cell_type": "markdown",
   "metadata": {},
   "source": [
    "This helps the computer know the rules of your data, so everythings stays organized."
   ]
  }
 ],
 "metadata": {
  "kernelspec": {
   "display_name": "Python 3",
   "language": "python",
   "name": "python3"
  },
  "language_info": {
   "codemirror_mode": {
    "name": "ipython",
    "version": 3
   },
   "file_extension": ".py",
   "mimetype": "text/x-python",
   "name": "python",
   "nbconvert_exporter": "python",
   "pygments_lexer": "ipython3",
   "version": "3.11.9"
  }
 },
 "nbformat": 4,
 "nbformat_minor": 2
}
